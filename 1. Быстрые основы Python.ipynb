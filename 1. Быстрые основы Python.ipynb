{
 "cells": [
  {
   "cell_type": "markdown",
   "id": "040da944",
   "metadata": {},
   "source": [
    "**Python** - самый популярный язык программирования для науки о данных. Почему\n",
    "он так хорошо подходит для решения подобных задач? \n",
    "Python - это интерпретируемый язык. Это означает, что вы можете легко взаимодействовать с\n",
    "различными частями кода и получать быстрые результаты. А это именно то, что\n",
    "нам нужно, если мы хотим проанализировать данные с разных сторон или\n",
    "попробовать различные гиперпараметры для модели машинного обучения. Кроме\n",
    "того, в Python есть множество библиотек, которые подходят для решения научных\n",
    "задач, в том числе для науки о данных. Добавьте к этому довольно простой\n",
    "синтаксис, и вы получите самый популярный язык программирования для задач\n",
    "науки о данных.\n",
    " \n",
    "**Просто ради интереса посмотрите на эти 19 прекрасных руководящих\n",
    "принципов, которые повлияли на разработку Python:**\n",
    "* Красивое лучше, чем уродливое.\n",
    "* Явное лучше, чем неявное.\n",
    "*    Простое лучше, чем сложное.\n",
    "*    Сложное лучше, чем запутанное.\n",
    "*    Плоское лучше, чем вложенное.\n",
    "*    Разреженное лучше, чем плотное.\n",
    "*    Читаемость имеет значение.\n",
    "*    Особые случаи не настолько особые, чтобы нарушать правила.\n",
    "*    При этом практичность важнее безупречности.\n",
    "*    Ошибки никогда не должны замалчиваться.\n",
    " *   Если они не замалчиваются явно.\n",
    "*    Встретив двусмысленность, отбрось искушение угадать.\n",
    "*    Должен существовать один и, желательно, только один очевидный способ сделать это.\n",
    "*    Хотя он поначалу может быть и не очевиден, если вы не голландец.\n",
    "*    Сейчас лучше, чем никогда.\n",
    "*    Хотя никогда зачастую лучше, чем прямо сейчас.\n",
    "*    Если реализацию сложно объяснить — идея плоха.\n",
    "*    Если реализацию легко объяснить — идея, возможно, хороша.\n",
    "*    Пространства имён — отличная штука! Будем делать их больше!"
   ]
  },
  {
   "cell_type": "code",
   "execution_count": 1,
   "id": "48bd340f",
   "metadata": {
    "scrolled": true
   },
   "outputs": [
    {
     "name": "stdout",
     "output_type": "stream",
     "text": [
      "The Zen of Python, by Tim Peters\n",
      "\n",
      "Beautiful is better than ugly.\n",
      "Explicit is better than implicit.\n",
      "Simple is better than complex.\n",
      "Complex is better than complicated.\n",
      "Flat is better than nested.\n",
      "Sparse is better than dense.\n",
      "Readability counts.\n",
      "Special cases aren't special enough to break the rules.\n",
      "Although practicality beats purity.\n",
      "Errors should never pass silently.\n",
      "Unless explicitly silenced.\n",
      "In the face of ambiguity, refuse the temptation to guess.\n",
      "There should be one-- and preferably only one --obvious way to do it.\n",
      "Although that way may not be obvious at first unless you're Dutch.\n",
      "Now is better than never.\n",
      "Although never is often better than *right* now.\n",
      "If the implementation is hard to explain, it's a bad idea.\n",
      "If the implementation is easy to explain, it may be a good idea.\n",
      "Namespaces are one honking great idea -- let's do more of those!\n"
     ]
    }
   ],
   "source": [
    "# Если забудете эти принципы, просто выполните этот код\n",
    "import this"
   ]
  },
  {
   "cell_type": "markdown",
   "id": "6060162d",
   "metadata": {},
   "source": [
    "###   Типы данных"
   ]
  },
  {
   "cell_type": "markdown",
   "id": "561cf3c3",
   "metadata": {},
   "source": [
    "Как и любой другой язык, Python имеет несколько встроенных типов данных. В\n",
    "этом упражнении вы познакомитесь с самыми популярными и полезными из них"
   ]
  },
  {
   "cell_type": "markdown",
   "id": "a0e92e65",
   "metadata": {},
   "source": [
    "int: Это целочисленный тип данных. Используется для представления целых чисел. Например:"
   ]
  },
  {
   "cell_type": "code",
   "execution_count": 5,
   "id": "6a236bbf",
   "metadata": {},
   "outputs": [
    {
     "name": "stdout",
     "output_type": "stream",
     "text": [
      "<class 'int'>\n"
     ]
    }
   ],
   "source": [
    "x = 10\n",
    "print(type(x))   # <class 'int'>\n"
   ]
  },
  {
   "cell_type": "markdown",
   "id": "703f1b35",
   "metadata": {},
   "source": [
    "str: Это строковый тип данных. Используется для представления текстовых данных или строк. Например:"
   ]
  },
  {
   "cell_type": "code",
   "execution_count": 6,
   "id": "8bc9506f",
   "metadata": {},
   "outputs": [
    {
     "name": "stdout",
     "output_type": "stream",
     "text": [
      "<class 'str'>\n"
     ]
    }
   ],
   "source": [
    "x = \"Привет, мир!\"\n",
    "print(type(x))  # <class 'str'>"
   ]
  },
  {
   "cell_type": "markdown",
   "id": "de2cf757",
   "metadata": {},
   "source": [
    "float: Это тип данных с плавающей точкой. Используется для представления чисел с десятичной частью. Например:"
   ]
  },
  {
   "cell_type": "code",
   "execution_count": 7,
   "id": "1fdab6bb",
   "metadata": {},
   "outputs": [
    {
     "name": "stdout",
     "output_type": "stream",
     "text": [
      "<class 'float'>\n"
     ]
    }
   ],
   "source": [
    "x = 10.5\n",
    "print(type(x))  # <class 'float'>\n"
   ]
  },
  {
   "cell_type": "markdown",
   "id": "e46afa07",
   "metadata": {},
   "source": [
    "bool: Это булевый тип данных. Используется для представления истинных (True) или ложных (False) значений. Например:"
   ]
  },
  {
   "cell_type": "code",
   "execution_count": 8,
   "id": "2297ce3c",
   "metadata": {},
   "outputs": [
    {
     "name": "stdout",
     "output_type": "stream",
     "text": [
      "<class 'bool'>\n"
     ]
    }
   ],
   "source": [
    "x = True\n",
    "print(type(x))  # <class 'bool'>\n"
   ]
  },
  {
   "cell_type": "markdown",
   "id": "ab88ddca",
   "metadata": {},
   "source": [
    "list: Это тип данных списка. Используется для хранения коллекции элементов в одном упорядоченном месте. Например:"
   ]
  },
  {
   "cell_type": "code",
   "execution_count": 9,
   "id": "e0e9e73e",
   "metadata": {},
   "outputs": [
    {
     "name": "stdout",
     "output_type": "stream",
     "text": [
      "<class 'list'>\n"
     ]
    }
   ],
   "source": [
    "x = [1, 2, 3, 4, 5]\n",
    "print(type(x))  # <class 'list'>\n"
   ]
  },
  {
   "cell_type": "markdown",
   "id": "2745f3b4",
   "metadata": {},
   "source": [
    "dict: Это тип данных словаря. Используется для хранения пар ключ-значение. Например:"
   ]
  },
  {
   "cell_type": "code",
   "execution_count": 10,
   "id": "d5fe54a5",
   "metadata": {},
   "outputs": [
    {
     "name": "stdout",
     "output_type": "stream",
     "text": [
      "<class 'dict'>\n"
     ]
    }
   ],
   "source": [
    "x = {\"имя\": \"Иван\", \"возраст\": 30}\n",
    "print(type(x))  # <class 'dict'>\n"
   ]
  },
  {
   "cell_type": "markdown",
   "id": "4c658915",
   "metadata": {},
   "source": [
    "tuple: Это тип данных кортежа. Используется для хранения коллекции элементов в одном неизменяемом упорядоченном месте. Например:"
   ]
  },
  {
   "cell_type": "code",
   "execution_count": 11,
   "id": "7c2c7859",
   "metadata": {},
   "outputs": [
    {
     "name": "stdout",
     "output_type": "stream",
     "text": [
      "<class 'tuple'>\n"
     ]
    }
   ],
   "source": [
    "x = (1, 2, 3, 4, 5)\n",
    "print(type(x))  # <class 'tuple'>\n"
   ]
  },
  {
   "cell_type": "markdown",
   "id": "7c22c14a",
   "metadata": {},
   "source": [
    "set: Это тип данных множества. Используется для хранения коллекции элементов в неупорядоченном месте, без повторяющихся элементов. Например:"
   ]
  },
  {
   "cell_type": "code",
   "execution_count": 12,
   "id": "48d399b6",
   "metadata": {},
   "outputs": [
    {
     "name": "stdout",
     "output_type": "stream",
     "text": [
      "<class 'set'>\n"
     ]
    }
   ],
   "source": [
    "x = {1, 2, 3, 4, 5}\n",
    "print(type(x))  # <class 'set'>\n"
   ]
  },
  {
   "cell_type": "code",
   "execution_count": null,
   "id": "f7fd9857",
   "metadata": {},
   "outputs": [],
   "source": []
  }
 ],
 "metadata": {
  "kernelspec": {
   "display_name": "Python 3 (ipykernel)",
   "language": "python",
   "name": "python3"
  },
  "language_info": {
   "codemirror_mode": {
    "name": "ipython",
    "version": 3
   },
   "file_extension": ".py",
   "mimetype": "text/x-python",
   "name": "python",
   "nbconvert_exporter": "python",
   "pygments_lexer": "ipython3",
   "version": "3.10.6"
  }
 },
 "nbformat": 4,
 "nbformat_minor": 5
}
