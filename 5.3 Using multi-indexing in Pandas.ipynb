{
 "cells": [
  {
   "cell_type": "markdown",
   "id": "e32e7772",
   "metadata": {},
   "source": [
    "## 5.3 Использование мультииндексации в Pandas\n",
    "\n",
    "### Введение\n",
    "\n",
    "Мультииндексация позволяет иметь несколько уровней индексов в DataFrame или Series. Это особенно полезно при работе с иерархическими данными. В этом учебном пособии мы рассмотрим, как использовать мультииндексацию в Pandas.\n"
   ]
  },
  {
   "cell_type": "code",
   "execution_count": 1,
   "id": "122dd4a7",
   "metadata": {},
   "outputs": [],
   "source": [
    "# Импортируем библиотеку Pandas\n",
    "import pandas as pd\n"
   ]
  },
  {
   "cell_type": "markdown",
   "id": "c8d71e18",
   "metadata": {},
   "source": [
    "### Создание DataFrame с мультииндексом\n",
    "\n",
    "Давайте создадим DataFrame с мультииндексом, состоящим из двух уровней: года и квартала.\n"
   ]
  },
  {
   "cell_type": "code",
   "execution_count": 2,
   "id": "66946503",
   "metadata": {},
   "outputs": [
    {
     "data": {
      "text/html": [
       "<div>\n",
       "<style scoped>\n",
       "    .dataframe tbody tr th:only-of-type {\n",
       "        vertical-align: middle;\n",
       "    }\n",
       "\n",
       "    .dataframe tbody tr th {\n",
       "        vertical-align: top;\n",
       "    }\n",
       "\n",
       "    .dataframe thead th {\n",
       "        text-align: right;\n",
       "    }\n",
       "</style>\n",
       "<table border=\"1\" class=\"dataframe\">\n",
       "  <thead>\n",
       "    <tr style=\"text-align: right;\">\n",
       "      <th></th>\n",
       "      <th></th>\n",
       "      <th>Revenue</th>\n",
       "    </tr>\n",
       "    <tr>\n",
       "      <th>Year</th>\n",
       "      <th>Quarter</th>\n",
       "      <th></th>\n",
       "    </tr>\n",
       "  </thead>\n",
       "  <tbody>\n",
       "    <tr>\n",
       "      <th rowspan=\"4\" valign=\"top\">2020</th>\n",
       "      <th>1</th>\n",
       "      <td>100</td>\n",
       "    </tr>\n",
       "    <tr>\n",
       "      <th>2</th>\n",
       "      <td>200</td>\n",
       "    </tr>\n",
       "    <tr>\n",
       "      <th>3</th>\n",
       "      <td>150</td>\n",
       "    </tr>\n",
       "    <tr>\n",
       "      <th>4</th>\n",
       "      <td>250</td>\n",
       "    </tr>\n",
       "    <tr>\n",
       "      <th rowspan=\"4\" valign=\"top\">2021</th>\n",
       "      <th>1</th>\n",
       "      <td>300</td>\n",
       "    </tr>\n",
       "    <tr>\n",
       "      <th>2</th>\n",
       "      <td>350</td>\n",
       "    </tr>\n",
       "    <tr>\n",
       "      <th>3</th>\n",
       "      <td>320</td>\n",
       "    </tr>\n",
       "    <tr>\n",
       "      <th>4</th>\n",
       "      <td>400</td>\n",
       "    </tr>\n",
       "  </tbody>\n",
       "</table>\n",
       "</div>"
      ],
      "text/plain": [
       "              Revenue\n",
       "Year Quarter         \n",
       "2020 1            100\n",
       "     2            200\n",
       "     3            150\n",
       "     4            250\n",
       "2021 1            300\n",
       "     2            350\n",
       "     3            320\n",
       "     4            400"
      ]
     },
     "execution_count": 2,
     "metadata": {},
     "output_type": "execute_result"
    }
   ],
   "source": [
    "# Создание данных\n",
    "data = {\n",
    "    'Year': [2020, 2020, 2020, 2020, 2021, 2021, 2021, 2021],\n",
    "    'Quarter': [1, 2, 3, 4, 1, 2, 3, 4],\n",
    "    'Revenue': [100, 200, 150, 250, 300, 350, 320, 400]\n",
    "}\n",
    "\n",
    "# Создание DataFrame\n",
    "df = pd.DataFrame(data)\n",
    "\n",
    "# Установка мультииндекса\n",
    "df.set_index(['Year', 'Quarter'], inplace=True)\n",
    "\n",
    "# Просмотр DataFrame\n",
    "df\n"
   ]
  },
  {
   "cell_type": "markdown",
   "id": "80a5d641",
   "metadata": {},
   "source": [
    "### Доступ к данным с мультииндексом\n",
    "\n",
    "Мы можем использовать метод `loc` для доступа к данным на разных уровнях индекса.\n"
   ]
  },
  {
   "cell_type": "code",
   "execution_count": 3,
   "id": "22a189f7",
   "metadata": {},
   "outputs": [
    {
     "data": {
      "text/plain": [
       "(         Revenue\n",
       " Quarter         \n",
       " 1            100\n",
       " 2            200\n",
       " 3            150\n",
       " 4            250,\n",
       " Revenue    350\n",
       " Name: (2021, 2), dtype: int64)"
      ]
     },
     "execution_count": 3,
     "metadata": {},
     "output_type": "execute_result"
    }
   ],
   "source": [
    "# Доступ к данным за 2020 год\n",
    "data_2020 = df.loc[2020]\n",
    "\n",
    "# Доступ к данным за 2 квартал 2021 года\n",
    "data_q2_2021 = df.loc[2021, 2]\n",
    "\n",
    "data_2020, data_q2_2021\n"
   ]
  },
  {
   "cell_type": "markdown",
   "id": "d4c20473",
   "metadata": {},
   "source": [
    "### Срезы с мультииндексом\n",
    "\n",
    "Мы также можем использовать срезы для выбора данных на разных уровнях индекса.\n"
   ]
  },
  {
   "cell_type": "code",
   "execution_count": 4,
   "id": "6cda903c",
   "metadata": {},
   "outputs": [
    {
     "data": {
      "text/html": [
       "<div>\n",
       "<style scoped>\n",
       "    .dataframe tbody tr th:only-of-type {\n",
       "        vertical-align: middle;\n",
       "    }\n",
       "\n",
       "    .dataframe tbody tr th {\n",
       "        vertical-align: top;\n",
       "    }\n",
       "\n",
       "    .dataframe thead th {\n",
       "        text-align: right;\n",
       "    }\n",
       "</style>\n",
       "<table border=\"1\" class=\"dataframe\">\n",
       "  <thead>\n",
       "    <tr style=\"text-align: right;\">\n",
       "      <th></th>\n",
       "      <th>Revenue</th>\n",
       "    </tr>\n",
       "    <tr>\n",
       "      <th>Quarter</th>\n",
       "      <th></th>\n",
       "    </tr>\n",
       "  </thead>\n",
       "  <tbody>\n",
       "    <tr>\n",
       "      <th>1</th>\n",
       "      <td>300</td>\n",
       "    </tr>\n",
       "    <tr>\n",
       "      <th>2</th>\n",
       "      <td>350</td>\n",
       "    </tr>\n",
       "  </tbody>\n",
       "</table>\n",
       "</div>"
      ],
      "text/plain": [
       "         Revenue\n",
       "Quarter         \n",
       "1            300\n",
       "2            350"
      ]
     },
     "execution_count": 4,
     "metadata": {},
     "output_type": "execute_result"
    }
   ],
   "source": [
    "# Выбор данных за 1 и 2 кварталы 2021 года\n",
    "data_2021_q1_q2 = df.loc[2021].loc[1:2]\n",
    "\n",
    "data_2021_q1_q2\n"
   ]
  },
  {
   "cell_type": "markdown",
   "id": "b44af135",
   "metadata": {},
   "source": [
    "### Сброс мультииндекса\n",
    "\n",
    "Метод `reset_index` позволяет сбросить мультииндекс и вернуть DataFrame к обычному индексу.\n"
   ]
  },
  {
   "cell_type": "markdown",
   "id": "45427204",
   "metadata": {},
   "source": [
    "### Заключение\n",
    "\n",
    "В этом учебном пособии мы рассмотрели, как использовать мультииндексацию в Pandas для работы с иерархическими данными. Мультииндексация полезна, когда у вас есть несколько уровней группировки и вы хотите выполнить сложные запросы к данным, сохраняя структуру данных.\n",
    "\n",
    "Не забудьте практиковаться и экспериментировать с различными методами мультииндексации, чтобы лучше понять, как они работают и как их можно использовать в ваших проектах.\n"
   ]
  },
  {
   "cell_type": "code",
   "execution_count": null,
   "id": "e2256ee6",
   "metadata": {},
   "outputs": [],
   "source": []
  }
 ],
 "metadata": {
  "kernelspec": {
   "display_name": "Python 3 (ipykernel)",
   "language": "python",
   "name": "python3"
  },
  "language_info": {
   "codemirror_mode": {
    "name": "ipython",
    "version": 3
   },
   "file_extension": ".py",
   "mimetype": "text/x-python",
   "name": "python",
   "nbconvert_exporter": "python",
   "pygments_lexer": "ipython3",
   "version": "3.10.6"
  }
 },
 "nbformat": 4,
 "nbformat_minor": 5
}
