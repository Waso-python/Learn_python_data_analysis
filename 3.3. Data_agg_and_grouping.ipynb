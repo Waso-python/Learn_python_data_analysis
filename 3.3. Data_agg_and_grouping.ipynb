{
 "cells": [
  {
   "cell_type": "markdown",
   "id": "ce3ee9f2",
   "metadata": {},
   "source": [
    "### 3.3. Основные функции агрегации и группировки данных\n",
    "* Применение функций к данным\n",
    "* Вычисление среднего, медианы, минимального и максимального значения\n",
    "* Группировка данных по определенному столбцу и применение агрегирующих функций к этим группам\n",
    "\n",
    "Задача: Применить группировку к датасету по определенному признаку и подсчитать статистику по другим столбцам в каждой группе."
   ]
  },
  {
   "cell_type": "code",
   "execution_count": 17,
   "id": "2b672f8c",
   "metadata": {},
   "outputs": [],
   "source": [
    "import pandas as pd\n",
    "# Загрузка CSV файла в DataFrame.\n",
    "# Используем сохраненный в предыдущем примере датасет, указываем, что первый столбец является индексом\n",
    "df = pd.read_csv('train_dataset.csv', encoding = 'utf-8', sep = ',', index_col=0)\n"
   ]
  },
  {
   "cell_type": "code",
   "execution_count": 18,
   "id": "f301fff3",
   "metadata": {},
   "outputs": [
    {
     "name": "stdout",
     "output_type": "stream",
     "text": [
      "<class 'pandas.core.frame.DataFrame'>\n",
      "Index: 227 entries, 0 to 226\n",
      "Data columns (total 22 columns):\n",
      " #   Column                             Non-Null Count  Dtype  \n",
      "---  ------                             --------------  -----  \n",
      " 0   Страна                             227 non-null    object \n",
      " 1   Регион                             227 non-null    object \n",
      " 2   Численность                        227 non-null    int64  \n",
      " 3   Площадь (sq. mi.)                  227 non-null    int64  \n",
      " 4   Плотность населения (per sq. mi.)  227 non-null    float64\n",
      " 5   Длина побережья к общей площади    227 non-null    float64\n",
      " 6   Миграция                           224 non-null    float64\n",
      " 7   Детская смертность                 224 non-null    float64\n",
      " 8   ВВП на душу населения              226 non-null    float64\n",
      " 9   Грамотность(%)                     209 non-null    float64\n",
      " 10  Телефонов (на 1000)                223 non-null    float64\n",
      " 11  пахотные земли (%)                 225 non-null    float64\n",
      " 12   земель под посевы(%)              225 non-null    float64\n",
      " 13  других земель (%)                  225 non-null    float64\n",
      " 14  Рождаемость                        224 non-null    float64\n",
      " 15  Смертность                         223 non-null    float64\n",
      " 16  С/Х в ВВП                          212 non-null    float64\n",
      " 17  Промышленность в ВВП               211 non-null    float64\n",
      " 18  Услуг в ВВП                        212 non-null    float64\n",
      " 19  Численность в млн                  227 non-null    float64\n",
      " 20  Площадь(кв.км)                     227 non-null    float64\n",
      " 21  Плотность населения(на кв.км)      227 non-null    float64\n",
      "dtypes: float64(18), int64(2), object(2)\n",
      "memory usage: 40.8+ KB\n"
     ]
    }
   ],
   "source": [
    "df.info()"
   ]
  },
  {
   "cell_type": "markdown",
   "id": "079bf54f",
   "metadata": {},
   "source": [
    "### Применение функций к данным:"
   ]
  },
  {
   "cell_type": "code",
   "execution_count": 19,
   "id": "abb3ed6f",
   "metadata": {},
   "outputs": [
    {
     "data": {
      "text/html": [
       "<div>\n",
       "<style scoped>\n",
       "    .dataframe tbody tr th:only-of-type {\n",
       "        vertical-align: middle;\n",
       "    }\n",
       "\n",
       "    .dataframe tbody tr th {\n",
       "        vertical-align: top;\n",
       "    }\n",
       "\n",
       "    .dataframe thead th {\n",
       "        text-align: right;\n",
       "    }\n",
       "</style>\n",
       "<table border=\"1\" class=\"dataframe\">\n",
       "  <thead>\n",
       "    <tr style=\"text-align: right;\">\n",
       "      <th></th>\n",
       "      <th>Страна</th>\n",
       "      <th>Численность</th>\n",
       "      <th>Численность в млн</th>\n",
       "    </tr>\n",
       "  </thead>\n",
       "  <tbody>\n",
       "    <tr>\n",
       "      <th>0</th>\n",
       "      <td>Afghanistan</td>\n",
       "      <td>31056997</td>\n",
       "      <td>31.056997</td>\n",
       "    </tr>\n",
       "    <tr>\n",
       "      <th>1</th>\n",
       "      <td>Albania</td>\n",
       "      <td>3581655</td>\n",
       "      <td>3.581655</td>\n",
       "    </tr>\n",
       "    <tr>\n",
       "      <th>2</th>\n",
       "      <td>Algeria</td>\n",
       "      <td>32930091</td>\n",
       "      <td>32.930091</td>\n",
       "    </tr>\n",
       "    <tr>\n",
       "      <th>3</th>\n",
       "      <td>American Samoa</td>\n",
       "      <td>57794</td>\n",
       "      <td>0.057794</td>\n",
       "    </tr>\n",
       "    <tr>\n",
       "      <th>4</th>\n",
       "      <td>Andorra</td>\n",
       "      <td>71201</td>\n",
       "      <td>0.071201</td>\n",
       "    </tr>\n",
       "    <tr>\n",
       "      <th>...</th>\n",
       "      <td>...</td>\n",
       "      <td>...</td>\n",
       "      <td>...</td>\n",
       "    </tr>\n",
       "    <tr>\n",
       "      <th>222</th>\n",
       "      <td>West Bank</td>\n",
       "      <td>2460492</td>\n",
       "      <td>2.460492</td>\n",
       "    </tr>\n",
       "    <tr>\n",
       "      <th>223</th>\n",
       "      <td>Western Sahara</td>\n",
       "      <td>273008</td>\n",
       "      <td>0.273008</td>\n",
       "    </tr>\n",
       "    <tr>\n",
       "      <th>224</th>\n",
       "      <td>Yemen</td>\n",
       "      <td>21456188</td>\n",
       "      <td>21.456188</td>\n",
       "    </tr>\n",
       "    <tr>\n",
       "      <th>225</th>\n",
       "      <td>Zambia</td>\n",
       "      <td>11502010</td>\n",
       "      <td>11.502010</td>\n",
       "    </tr>\n",
       "    <tr>\n",
       "      <th>226</th>\n",
       "      <td>Zimbabwe</td>\n",
       "      <td>12236805</td>\n",
       "      <td>12.236805</td>\n",
       "    </tr>\n",
       "  </tbody>\n",
       "</table>\n",
       "<p>227 rows × 3 columns</p>\n",
       "</div>"
      ],
      "text/plain": [
       "             Страна  Численность  Численность в млн\n",
       "0       Afghanistan     31056997          31.056997\n",
       "1           Albania      3581655           3.581655\n",
       "2           Algeria     32930091          32.930091\n",
       "3    American Samoa        57794           0.057794\n",
       "4           Andorra        71201           0.071201\n",
       "..              ...          ...                ...\n",
       "222       West Bank      2460492           2.460492\n",
       "223  Western Sahara       273008           0.273008\n",
       "224           Yemen     21456188          21.456188\n",
       "225          Zambia     11502010          11.502010\n",
       "226        Zimbabwe     12236805          12.236805\n",
       "\n",
       "[227 rows x 3 columns]"
      ]
     },
     "execution_count": 19,
     "metadata": {},
     "output_type": "execute_result"
    }
   ],
   "source": [
    "#Для преобразование населения в миллионы, создадим новый столбец, применив функцию к существующему\n",
    "df['Численность в млн'] = df['Численность'].apply(lambda x: x / 1e6)\n",
    "df[['Страна','Численность','Численность в млн']]"
   ]
  },
  {
   "cell_type": "markdown",
   "id": "de7ab3cf",
   "metadata": {},
   "source": [
    "### Вычисление среднего, медианы, минимального и максимального значения\n",
    "\n",
    "Pandas имеет удобные методы для вычисления статистических показателей. Например, для вычисления среднего значения столбца, используйте метод .mean():"
   ]
  },
  {
   "cell_type": "code",
   "execution_count": 20,
   "id": "358fe1a7",
   "metadata": {},
   "outputs": [
    {
     "name": "stdout",
     "output_type": "stream",
     "text": [
      "Среднее значение численности населения: 28740284.37\n"
     ]
    }
   ],
   "source": [
    "# Среднее значение численности населения\n",
    "mean_population = df['Численность'].mean()\n",
    "print('Среднее значение численности населения:', mean_population.round(2))\n"
   ]
  },
  {
   "cell_type": "markdown",
   "id": "2269d9c3",
   "metadata": {},
   "source": [
    "Метод .median() используется для вычисления медианы, .min() и .max() - для минимального и максимального значений соответственно:"
   ]
  },
  {
   "cell_type": "code",
   "execution_count": 22,
   "id": "011f67b5",
   "metadata": {},
   "outputs": [
    {
     "name": "stdout",
     "output_type": "stream",
     "text": [
      "Медианное значение ВВП на душу населения: 5550.0\n",
      "Минимальное значение грамотности: 17.6\n",
      "Максимальное значение плотности населения: 42143.185\n"
     ]
    }
   ],
   "source": [
    "# Медианное значение ВВП на душу населения\n",
    "median_gdp = df['ВВП на душу населения'].median()\n",
    "print('Медианное значение ВВП на душу населения:', median_gdp)\n",
    "\n",
    "# Минимальное значение грамотности\n",
    "min_literacy = df['Грамотность(%)'].min()\n",
    "print('Минимальное значение грамотности:', min_literacy)\n",
    "\n",
    "# Максимальное значение плотности населения\n",
    "max_density = df['Плотность населения(на кв.км)'].max()\n",
    "print('Максимальное значение плотности населения:', max_density)\n"
   ]
  },
  {
   "cell_type": "markdown",
   "id": "7d515744",
   "metadata": {},
   "source": [
    "### Группировка данных по определенному столбцу и применение агрегирующих функций\n",
    "\n",
    "Pandas предоставляет метод .groupby() для группировки данных по определенному столбцу:"
   ]
  },
  {
   "cell_type": "code",
   "execution_count": 23,
   "id": "1018644c",
   "metadata": {
    "scrolled": true
   },
   "outputs": [
    {
     "name": "stdout",
     "output_type": "stream",
     "text": [
      "Регион\n",
      "ex-USSR               4000.00\n",
      "Азия                  8053.57\n",
      "Ближний Восток       10456.25\n",
      "ВОСТОЧНАЯ ЕВРОПА      9808.33\n",
      "Западная Европа      27046.43\n",
      "Латинская Америка     8682.22\n",
      "ОКЕАНИЯ               8247.62\n",
      "Прибалтика           11300.00\n",
      "СЕВЕРНАЯ АФРИКА       5460.00\n",
      "Северная Америка     26100.00\n",
      "Южная Африка          2323.53\n",
      "Name: ВВП на душу населения, dtype: float64\n"
     ]
    }
   ],
   "source": [
    "# Среднее значение ВВП на душу населения по регионам\n",
    "mean_gdp_per_capita = df.groupby('Регион')['ВВП на душу населения'].mean()\n",
    "print(mean_gdp_per_capita.round(2))"
   ]
  },
  {
   "cell_type": "code",
   "execution_count": 24,
   "id": "c4c9dfa5",
   "metadata": {},
   "outputs": [
    {
     "name": "stdout",
     "output_type": "stream",
     "text": [
      "                         mean     median\n",
      "Регион                                  \n",
      "ex-USSR             23.340129   7.641217\n",
      "Азия               131.713651  26.336503\n",
      "Ближний Восток      12.191774   3.488139\n",
      "ВОСТОЧНАЯ ЕВРОПА     9.992893   6.412407\n",
      "Западная Европа     14.155000   4.921096\n",
      "Латинская Америка   12.484991   1.065842\n",
      "ОКЕАНИЯ              1.577698   0.114689\n",
      "Прибалтика           2.394991   2.274735\n",
      "СЕВЕРНАЯ АФРИКА     26.901189  21.552552\n",
      "Северная Америка    66.334461   0.065773\n",
      "Южная Африка        14.694843   8.090068\n"
     ]
    }
   ],
   "source": [
    "# Группировка данных по региону и вычисление средней численности населения в каждом регионе\n",
    "grouped = df.groupby('Регион')['Численность в млн'].agg(['mean', 'median'])\n",
    "print(grouped)\n"
   ]
  }
 ],
 "metadata": {
  "kernelspec": {
   "display_name": "Python 3 (ipykernel)",
   "language": "python",
   "name": "python3"
  },
  "language_info": {
   "codemirror_mode": {
    "name": "ipython",
    "version": 3
   },
   "file_extension": ".py",
   "mimetype": "text/x-python",
   "name": "python",
   "nbconvert_exporter": "python",
   "pygments_lexer": "ipython3",
   "version": "3.10.6"
  }
 },
 "nbformat": 4,
 "nbformat_minor": 5
}
