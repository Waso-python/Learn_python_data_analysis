{
 "cells": [
  {
   "cell_type": "markdown",
   "id": "6b2dd6f0",
   "metadata": {},
   "source": [
    "## 5.2. Применение функций и методов apply и map в Pandas\n",
    "\n",
    "\n",
    "### Введение\n",
    "\n",
    "Библиотека Pandas в Python предоставляет мощные инструменты для обработки и анализа данных. Одними из самых полезных функций являются `apply` и `map`, которые позволяют применять функции к элементам DataFrame или Series. В этом учебном пособии мы рассмотрим, как использовать эти методы.\n"
   ]
  },
  {
   "cell_type": "code",
   "execution_count": 1,
   "id": "e793652c",
   "metadata": {},
   "outputs": [],
   "source": [
    "# Импортируем библиотеку Pandas\n",
    "import pandas as pd\n"
   ]
  },
  {
   "cell_type": "markdown",
   "id": "98a4fc45",
   "metadata": {},
   "source": [
    "### Создание DataFrame\n",
    "\n",
    "Для начала, создадим простой DataFrame, с которым будем работать.\n"
   ]
  },
  {
   "cell_type": "code",
   "execution_count": 3,
   "id": "1a81dcce",
   "metadata": {},
   "outputs": [
    {
     "data": {
      "text/html": [
       "<div>\n",
       "<style scoped>\n",
       "    .dataframe tbody tr th:only-of-type {\n",
       "        vertical-align: middle;\n",
       "    }\n",
       "\n",
       "    .dataframe tbody tr th {\n",
       "        vertical-align: top;\n",
       "    }\n",
       "\n",
       "    .dataframe thead th {\n",
       "        text-align: right;\n",
       "    }\n",
       "</style>\n",
       "<table border=\"1\" class=\"dataframe\">\n",
       "  <thead>\n",
       "    <tr style=\"text-align: right;\">\n",
       "      <th></th>\n",
       "      <th>Name</th>\n",
       "      <th>Age</th>\n",
       "      <th>Salary</th>\n",
       "    </tr>\n",
       "  </thead>\n",
       "  <tbody>\n",
       "    <tr>\n",
       "      <th>0</th>\n",
       "      <td>Alice</td>\n",
       "      <td>25</td>\n",
       "      <td>50000</td>\n",
       "    </tr>\n",
       "    <tr>\n",
       "      <th>1</th>\n",
       "      <td>Bob</td>\n",
       "      <td>30</td>\n",
       "      <td>60000</td>\n",
       "    </tr>\n",
       "    <tr>\n",
       "      <th>2</th>\n",
       "      <td>Charlie</td>\n",
       "      <td>35</td>\n",
       "      <td>70000</td>\n",
       "    </tr>\n",
       "    <tr>\n",
       "      <th>3</th>\n",
       "      <td>David</td>\n",
       "      <td>40</td>\n",
       "      <td>80000</td>\n",
       "    </tr>\n",
       "  </tbody>\n",
       "</table>\n",
       "</div>"
      ],
      "text/plain": [
       "      Name  Age  Salary\n",
       "0    Alice   25   50000\n",
       "1      Bob   30   60000\n",
       "2  Charlie   35   70000\n",
       "3    David   40   80000"
      ]
     },
     "execution_count": 3,
     "metadata": {},
     "output_type": "execute_result"
    }
   ],
   "source": [
    "# Создание DataFrame\n",
    "df = pd.DataFrame({\n",
    "    'Name': ['Alice', 'Bob', 'Charlie', 'David'],\n",
    "    'Age': [25, 30, 35, 40],\n",
    "    'Salary': [50000, 60000, 70000, 80000]\n",
    "})\n",
    "\n",
    "# Просмотр DataFrame\n",
    "df\n"
   ]
  },
  {
   "cell_type": "markdown",
   "id": "a72fe45f",
   "metadata": {},
   "source": [
    "### Использование метода apply\n",
    "\n",
    "Метод `apply` можно использовать для применения функции вдоль оси DataFrame. \n",
    "\n",
    "#### Применение функции к столбцу\n"
   ]
  },
  {
   "cell_type": "code",
   "execution_count": 7,
   "id": "96d56652",
   "metadata": {},
   "outputs": [
    {
     "name": "stdout",
     "output_type": "stream",
     "text": [
      "<class 'pandas.core.frame.DataFrame'>\n",
      "RangeIndex: 4 entries, 0 to 3\n",
      "Data columns (total 4 columns):\n",
      " #   Column  Non-Null Count  Dtype  \n",
      "---  ------  --------------  -----  \n",
      " 0   Name    4 non-null      object \n",
      " 1   Age     4 non-null      int64  \n",
      " 2   Salary  4 non-null      int64  \n",
      " 3   Tax     4 non-null      float64\n",
      "dtypes: float64(1), int64(2), object(1)\n",
      "memory usage: 256.0+ bytes\n"
     ]
    }
   ],
   "source": [
    "# Функция для вычисления 10% налога на зарплату\n",
    "def calculate_tax(salary):\n",
    "    return salary * 0.1\n",
    "\n",
    "# Применение функции к столбцу 'Salary'\n",
    "df['Tax'] = df['Salary'].apply(calculate_tax)\n",
    "\n",
    "# Просмотр DataFrame\n",
    "df.info()\n"
   ]
  },
  {
   "cell_type": "markdown",
   "id": "dcbced9b",
   "metadata": {},
   "source": [
    "#### Применение функции ко всему DataFrame\n"
   ]
  },
  {
   "cell_type": "code",
   "execution_count": 9,
   "id": "debbae78",
   "metadata": {},
   "outputs": [
    {
     "data": {
      "text/plain": [
       "Age          32.5\n",
       "Salary    65000.0\n",
       "Tax        6500.0\n",
       "dtype: float64"
      ]
     },
     "execution_count": 9,
     "metadata": {},
     "output_type": "execute_result"
    }
   ],
   "source": [
    "# Функция для вычисления среднего значения\n",
    "def calculate_mean(column):\n",
    "    return sum(column) / len(column)\n",
    "\n",
    "# Применение функции только к числовым столбцам DataFrame\n",
    "numerical_data = df.select_dtypes(include=['number'])\n",
    "mean_values = numerical_data.apply(calculate_mean, axis=0)\n",
    "mean_values\n",
    "\n"
   ]
  },
  {
   "cell_type": "markdown",
   "id": "1dcc9081",
   "metadata": {},
   "source": [
    "### Использование метода map\n",
    "\n",
    "Метод `map` используется для замены каждого значения в Series с помощью функции или соответствующего значения из словаря или другой последовательности.\n"
   ]
  },
  {
   "cell_type": "code",
   "execution_count": 10,
   "id": "da7491c9",
   "metadata": {},
   "outputs": [
    {
     "data": {
      "text/html": [
       "<div>\n",
       "<style scoped>\n",
       "    .dataframe tbody tr th:only-of-type {\n",
       "        vertical-align: middle;\n",
       "    }\n",
       "\n",
       "    .dataframe tbody tr th {\n",
       "        vertical-align: top;\n",
       "    }\n",
       "\n",
       "    .dataframe thead th {\n",
       "        text-align: right;\n",
       "    }\n",
       "</style>\n",
       "<table border=\"1\" class=\"dataframe\">\n",
       "  <thead>\n",
       "    <tr style=\"text-align: right;\">\n",
       "      <th></th>\n",
       "      <th>Name</th>\n",
       "      <th>Age</th>\n",
       "      <th>Salary</th>\n",
       "      <th>Tax</th>\n",
       "      <th>Age Category</th>\n",
       "    </tr>\n",
       "  </thead>\n",
       "  <tbody>\n",
       "    <tr>\n",
       "      <th>0</th>\n",
       "      <td>Alice</td>\n",
       "      <td>25</td>\n",
       "      <td>50000</td>\n",
       "      <td>5000.0</td>\n",
       "      <td>Young</td>\n",
       "    </tr>\n",
       "    <tr>\n",
       "      <th>1</th>\n",
       "      <td>Bob</td>\n",
       "      <td>30</td>\n",
       "      <td>60000</td>\n",
       "      <td>6000.0</td>\n",
       "      <td>Adult</td>\n",
       "    </tr>\n",
       "    <tr>\n",
       "      <th>2</th>\n",
       "      <td>Charlie</td>\n",
       "      <td>35</td>\n",
       "      <td>70000</td>\n",
       "      <td>7000.0</td>\n",
       "      <td>Adult</td>\n",
       "    </tr>\n",
       "    <tr>\n",
       "      <th>3</th>\n",
       "      <td>David</td>\n",
       "      <td>40</td>\n",
       "      <td>80000</td>\n",
       "      <td>8000.0</td>\n",
       "      <td>Senior</td>\n",
       "    </tr>\n",
       "  </tbody>\n",
       "</table>\n",
       "</div>"
      ],
      "text/plain": [
       "      Name  Age  Salary     Tax Age Category\n",
       "0    Alice   25   50000  5000.0        Young\n",
       "1      Bob   30   60000  6000.0        Adult\n",
       "2  Charlie   35   70000  7000.0        Adult\n",
       "3    David   40   80000  8000.0       Senior"
      ]
     },
     "execution_count": 10,
     "metadata": {},
     "output_type": "execute_result"
    }
   ],
   "source": [
    "# Замена возрастов на категории\n",
    "age_categories = {\n",
    "    25: 'Young',\n",
    "    30: 'Adult',\n",
    "    35: 'Adult',\n",
    "    40: 'Senior'\n",
    "}\n",
    "\n",
    "# Применение метода map к столбцу 'Age'\n",
    "df['Age Category'] = df['Age'].map(age_categories)\n",
    "\n",
    "# Просмотр DataFrame\n",
    "df\n"
   ]
  },
  {
   "cell_type": "markdown",
   "id": "2adfc21b",
   "metadata": {},
   "source": [
    "### Заключение\n",
    "\n",
    "В этом учебном пособии мы рассмотрели, как использовать методы `apply` и `map` для применения функций к элементам DataFrame или Series в Pandas. Эти методы могут быть очень полезными для выполнения сложных операций с данными.\n"
   ]
  }
 ],
 "metadata": {
  "kernelspec": {
   "display_name": "Python 3 (ipykernel)",
   "language": "python",
   "name": "python3"
  },
  "language_info": {
   "codemirror_mode": {
    "name": "ipython",
    "version": 3
   },
   "file_extension": ".py",
   "mimetype": "text/x-python",
   "name": "python",
   "nbconvert_exporter": "python",
   "pygments_lexer": "ipython3",
   "version": "3.10.6"
  }
 },
 "nbformat": 4,
 "nbformat_minor": 5
}
