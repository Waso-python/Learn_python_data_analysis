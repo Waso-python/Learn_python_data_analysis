{
 "cells": [
  {
   "cell_type": "markdown",
   "id": "832e1f13",
   "metadata": {},
   "source": [
    "### 4.1 Подробное изучение Series и DataFrame\n",
    "- Создание Series и DataFrame из различных структур данных\n",
    "- Основные методы и атрибуты Series и DataFrame\n",
    "\n",
    "**Задача**: Создать Series и DataFrame из списка, словаря и numpy массива. Применить основные методы и атрибуты."
   ]
  },
  {
   "cell_type": "code",
   "execution_count": 9,
   "id": "5dfe7e95",
   "metadata": {},
   "outputs": [],
   "source": [
    "import pandas as pd\n",
    "import numpy as np\n",
    "# Загрузка CSV файла в DataFrame.\n",
    "# Используем сохраненный в предыдущем примере датасет, указываем, что первый столбец является индексом\n",
    "df = pd.read_csv('countries_dataset/train_dataset.csv', encoding = 'utf-8', sep = ',', index_col=0)"
   ]
  },
  {
   "cell_type": "markdown",
   "id": "6a1f1b41",
   "metadata": {},
   "source": [
    "#### Создание Series\n",
    "\n",
    "**Series** - это одномерный массив, который может содержать любой тип данных (целые числа, строки, числа с плавающей точкой, объекты Python и т.д.). Он подобен столбцу в таблице. У него есть индексы и значения.\n",
    "\n",
    "python"
   ]
  },
  {
   "cell_type": "code",
   "execution_count": 2,
   "id": "3aca16c6",
   "metadata": {},
   "outputs": [
    {
     "name": "stdout",
     "output_type": "stream",
     "text": [
      "0    31056997\n",
      "1     3581655\n",
      "2    32930091\n",
      "3       57794\n",
      "4       71201\n",
      "Name: Численность, dtype: int64\n"
     ]
    }
   ],
   "source": [
    "# Создание Series из столбца 'Численность'\n",
    "series = df['Численность']\n",
    "print(series.head())  # вывод первых 5 строк\n"
   ]
  },
  {
   "cell_type": "markdown",
   "id": "8d3e2e4d",
   "metadata": {},
   "source": [
    "Методы и атрибуты **Series:**"
   ]
  },
  {
   "cell_type": "code",
   "execution_count": 7,
   "id": "bd98fb54",
   "metadata": {},
   "outputs": [
    {
     "name": "stdout",
     "output_type": "stream",
     "text": [
      "[ 1.  2.  3. nan  5.  6.]\n",
      "RangeIndex(start=0, stop=6, step=1)\n",
      "float64\n",
      "6\n",
      "(6,)\n",
      "5\n",
      "[ 1.  2.  3. nan  5.  6.]\n",
      "1.0    1\n",
      "2.0    1\n",
      "3.0    1\n",
      "5.0    1\n",
      "6.0    1\n",
      "Name: count, dtype: int64\n"
     ]
    }
   ],
   "source": [
    "s = pd.Series([1, 2, 3, np.nan, 5, 6])\n",
    "print(s.values)  # вывод значений серии\n",
    "print(s.index)  # вывод индекса серии\n",
    "print(s.dtypes)  # вывод типа данных серии\n",
    "print(s.size)  # вывод размера серии\n",
    "print(s.shape)  # вывод формы серии\n",
    "print(s.count())  # подсчет количества ненулевых значений\n",
    "print(s.unique())  # вывод уникальных значений серии\n",
    "print(s.value_counts())  # подсчет каждого уникального значения\n"
   ]
  },
  {
   "cell_type": "code",
   "execution_count": 3,
   "id": "d1f2cf7a",
   "metadata": {},
   "outputs": [
    {
     "name": "stdout",
     "output_type": "stream",
     "text": [
      "count      226.000000\n",
      "mean      9689.823009\n",
      "std      10049.138513\n",
      "min        500.000000\n",
      "25%       1900.000000\n",
      "50%       5550.000000\n",
      "75%      15700.000000\n",
      "max      55100.000000\n",
      "Name: ВВП на душу населения, dtype: float64\n",
      "Страны с самым высоким ВВП на душу населения:\n",
      "121    Luxembourg\n",
      "Name: Страна, dtype: object\n",
      "Страны с самым низким ВВП на душу населения:\n",
      "58       East Timor\n",
      "183    Sierra Leone\n",
      "188         Somalia\n",
      "Name: Страна, dtype: object\n"
     ]
    }
   ],
   "source": [
    "# Создание Series из столбца 'ВВП на душу населения'\n",
    "gdp_series = df['ВВП на душу населения']\n",
    "\n",
    "# Выводим базовую статистическую информацию\n",
    "print(gdp_series.describe())\n",
    "\n",
    "# Выводим страны с самым высоким ВВП на душу населения\n",
    "top_gdp_countries = df[df['ВВП на душу населения'] == gdp_series.max()]['Страна']\n",
    "print(\"Страны с самым высоким ВВП на душу населения:\")\n",
    "print(top_gdp_countries)\n",
    "\n",
    "# Выводим страны с самым низким ВВП на душу населения\n",
    "bottom_gdp_countries = df[df['ВВП на душу населения'] == gdp_series.min()]['Страна']\n",
    "print(\"Страны с самым низким ВВП на душу населения:\")\n",
    "print(bottom_gdp_countries)"
   ]
  },
  {
   "cell_type": "markdown",
   "id": "fd595cd1",
   "metadata": {},
   "source": [
    "#### Создание DataFrame\n",
    "\n",
    "**DataFrame** - это двухмерный размер изменяемого размера табличной структуры с возможно разнотипными столбцами."
   ]
  },
  {
   "cell_type": "code",
   "execution_count": 6,
   "id": "6340cbf6",
   "metadata": {},
   "outputs": [
    {
     "name": "stdout",
     "output_type": "stream",
     "text": [
      "   0\n",
      "0  1\n",
      "1  2\n",
      "2  3\n",
      "3  4\n",
      "4  5\n",
      "   1  2  3\n",
      "1  a  b  c\n",
      "    0   1   2\n",
      "0  10  20  30\n",
      "1  40  50  60\n"
     ]
    }
   ],
   "source": [
    "# Создание DataFrame из списка\n",
    "list_df = pd.DataFrame([1, 2, 3, 4, 5])\n",
    "print(list_df)\n",
    "\n",
    "# Создание DataFrame из словаря\n",
    "dict_df = pd.DataFrame({1: 'a', 2: 'b', 3: 'c'}, index=[1])\n",
    "print(dict_df)\n",
    "\n",
    "# Создание DataFrame из numpy массива\n",
    "numpy_df = pd.DataFrame(np.array([[10, 20, 30], [40, 50, 60]]))\n",
    "print(numpy_df)\n"
   ]
  },
  {
   "cell_type": "markdown",
   "id": "5c01be4f",
   "metadata": {},
   "source": [
    "Методы и атрибуты **DataFrame:**"
   ]
  },
  {
   "cell_type": "code",
   "execution_count": 8,
   "id": "d3e0c7ef",
   "metadata": {},
   "outputs": [
    {
     "name": "stdout",
     "output_type": "stream",
     "text": [
      "Index(['a', 'b', 'c'], dtype='object')\n",
      "RangeIndex(start=0, stop=3, step=1)\n",
      "[[1 2 3]\n",
      " [4 5 6]\n",
      " [7 8 9]]\n",
      "a    int64\n",
      "b    int64\n",
      "c    int64\n",
      "dtype: object\n",
      "(3, 3)\n",
      "9\n",
      "   a  b  c\n",
      "0  1  2  3\n",
      "1  4  5  6\n",
      "2  7  8  9\n",
      "   a  b  c\n",
      "0  1  2  3\n",
      "1  4  5  6\n",
      "2  7  8  9\n",
      "<class 'pandas.core.frame.DataFrame'>\n",
      "RangeIndex: 3 entries, 0 to 2\n",
      "Data columns (total 3 columns):\n",
      " #   Column  Non-Null Count  Dtype\n",
      "---  ------  --------------  -----\n",
      " 0   a       3 non-null      int64\n",
      " 1   b       3 non-null      int64\n",
      " 2   c       3 non-null      int64\n",
      "dtypes: int64(3)\n",
      "memory usage: 200.0 bytes\n",
      "None\n",
      "         a    b    c\n",
      "count  3.0  3.0  3.0\n",
      "mean   4.0  5.0  6.0\n",
      "std    3.0  3.0  3.0\n",
      "min    1.0  2.0  3.0\n",
      "25%    2.5  3.5  4.5\n",
      "50%    4.0  5.0  6.0\n",
      "75%    5.5  6.5  7.5\n",
      "max    7.0  8.0  9.0\n"
     ]
    }
   ],
   "source": [
    "df = pd.DataFrame(np.array([[1, 2, 3], [4, 5, 6], [7, 8, 9]]), columns=['a', 'b', 'c'])\n",
    "\n",
    "print(df.columns)  # вывод имен столбцов\n",
    "print(df.index)  # вывод индексов\n",
    "print(df.values)  # вывод значений dataframe\n",
    "print(df.dtypes)  # вывод типов данных столбцов\n",
    "print(df.shape)  # вывод формы dataframe\n",
    "print(df.size)  # вывод общего количества элементов\n",
    "print(df.head())  # вывод первых n строк\n",
    "print(df.tail())  # вывод последних n строк\n",
    "print(df.info())  # вывод информации о dataframe\n",
    "print(df.describe())  # вывод статистики\n"
   ]
  },
  {
   "cell_type": "code",
   "execution_count": null,
   "id": "df6340e6",
   "metadata": {},
   "outputs": [],
   "source": []
  }
 ],
 "metadata": {
  "kernelspec": {
   "display_name": "Python 3 (ipykernel)",
   "language": "python",
   "name": "python3"
  },
  "language_info": {
   "codemirror_mode": {
    "name": "ipython",
    "version": 3
   },
   "file_extension": ".py",
   "mimetype": "text/x-python",
   "name": "python",
   "nbconvert_exporter": "python",
   "pygments_lexer": "ipython3",
   "version": "3.10.6"
  }
 },
 "nbformat": 4,
 "nbformat_minor": 5
}
