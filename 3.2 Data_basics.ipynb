{
 "cells": [
  {
   "cell_type": "markdown",
   "id": "5e5c9227",
   "metadata": {},
   "source": [
    "### 3.2 Основы работы с данными: выбор данных, фильтрация, сортировка\n",
    "* Приведение типов столбцов\n",
    "* Выбор столбцов и строк\n",
    "* Замена значений в данных\n",
    "* Удаление столбцов\n",
    "* Фильтрация данных по условию\n",
    "* Сортировка данных по определенному столбцу\n",
    "* Создание новых столбцов на основе существующих:\n",
    "\n",
    "Задача: Оптимизировать датасет, выбрать определенные столбцы из датасета, отфильтровать строки по определенному условию и отсортировать результаты."
   ]
  },
  {
   "cell_type": "code",
   "execution_count": 1,
   "id": "c12d59d3",
   "metadata": {},
   "outputs": [],
   "source": [
    "import pandas as pd\n",
    "# Загрузка CSV файла в DataFrame.\n",
    "def read_df():\n",
    "    df = pd.read_csv('countries_dataset/countries-of-the-world.csv', encoding = 'utf-8', sep = ',')\n",
    "    return df\n",
    "# Создадим функцию чтения из файла, для дальнейшего использования"
   ]
  },
  {
   "cell_type": "code",
   "execution_count": 2,
   "id": "4c55256e",
   "metadata": {},
   "outputs": [],
   "source": [
    "df = read_df()"
   ]
  },
  {
   "cell_type": "code",
   "execution_count": 3,
   "id": "3d1ac7af",
   "metadata": {},
   "outputs": [
    {
     "name": "stdout",
     "output_type": "stream",
     "text": [
      "<class 'pandas.core.frame.DataFrame'>\n",
      "RangeIndex: 227 entries, 0 to 226\n",
      "Data columns (total 20 columns):\n",
      " #   Column                             Non-Null Count  Dtype  \n",
      "---  ------                             --------------  -----  \n",
      " 0   Страна                             227 non-null    object \n",
      " 1   Регион                             227 non-null    object \n",
      " 2   Численность                        227 non-null    int64  \n",
      " 3   Площадь (sq. mi.)                  227 non-null    int64  \n",
      " 4   Плотность населения (per sq. mi.)  227 non-null    object \n",
      " 5   Длина побережья к общей площади    227 non-null    object \n",
      " 6   Миграция                           224 non-null    object \n",
      " 7   Детская смертность                 224 non-null    object \n",
      " 8   ВВП на душу населения              226 non-null    float64\n",
      " 9   Грамотность(%)                     209 non-null    object \n",
      " 10  Телефонов (на 1000)                223 non-null    object \n",
      " 11  пахотные земли (%)                 225 non-null    object \n",
      " 12   земель под посевы(%)              225 non-null    object \n",
      " 13  других земель (%)                  225 non-null    object \n",
      " 14  Климатический регион               205 non-null    object \n",
      " 15  Рождаемость                        224 non-null    object \n",
      " 16  Смертность                         223 non-null    object \n",
      " 17  С/Х в ВВП                          212 non-null    object \n",
      " 18  Промышленность в ВВП               211 non-null    object \n",
      " 19  Услуг в ВВП                        212 non-null    object \n",
      "dtypes: float64(1), int64(2), object(17)\n",
      "memory usage: 35.6+ KB\n"
     ]
    },
    {
     "data": {
      "text/plain": [
       "Страна                                object\n",
       "Регион                                object\n",
       "Численность                            int64\n",
       "Площадь (sq. mi.)                      int64\n",
       "Плотность населения (per sq. mi.)     object\n",
       "Длина побережья к общей площади       object\n",
       "Миграция                              object\n",
       "Детская смертность                    object\n",
       "ВВП на душу населения                float64\n",
       "Грамотность(%)                        object\n",
       "Телефонов (на 1000)                   object\n",
       "пахотные земли (%)                    object\n",
       " земель под посевы(%)                 object\n",
       "других земель (%)                     object\n",
       "Климатический регион                  object\n",
       "Рождаемость                           object\n",
       "Смертность                            object\n",
       "С/Х в ВВП                             object\n",
       "Промышленность в ВВП                  object\n",
       "Услуг в ВВП                           object\n",
       "dtype: object"
      ]
     },
     "execution_count": 3,
     "metadata": {},
     "output_type": "execute_result"
    }
   ],
   "source": [
    "# Посмотрим общую информацию о нашем DataFrame\n",
    "df.info()\n",
    "\n",
    "# Если конкретно информацию о столбцах, то используем:\n",
    "df.dtypes"
   ]
  },
  {
   "cell_type": "markdown",
   "id": "a946a293",
   "metadata": {},
   "source": [
    "### Преобразование в числовые типы\n",
    "\n",
    "Если ваши данные были считаны как строки, а вы хотите работать с ними как с числами (или наоборот), вам потребуется привести их к нужному типу."
   ]
  },
  {
   "cell_type": "code",
   "execution_count": 4,
   "id": "fa295c8b",
   "metadata": {},
   "outputs": [
    {
     "data": {
      "text/plain": [
       "0       48,0\n",
       "1      124,6\n",
       "2       13,8\n",
       "3      290,4\n",
       "4      152,1\n",
       "       ...  \n",
       "222    419,9\n",
       "223      1,0\n",
       "224     40,6\n",
       "225     15,3\n",
       "226     31,3\n",
       "Name: Плотность населения (per sq. mi.), Length: 227, dtype: object"
      ]
     },
     "execution_count": 4,
     "metadata": {},
     "output_type": "execute_result"
    }
   ],
   "source": [
    "# Мы видим, что значения в поле 'Плотность населения (per sq. mi.)' определилось как строка, \n",
    "# однако преобразовать сразу в тип float64 у нас не получится, потому что разделитель целой и дробной части у нас запятая, \n",
    "# а нужно, чтобы была точка\n",
    "df['Плотность населения (per sq. mi.)']"
   ]
  },
  {
   "cell_type": "code",
   "execution_count": 5,
   "id": "6936f357",
   "metadata": {},
   "outputs": [
    {
     "data": {
      "text/plain": [
       "0       48.0\n",
       "1      124.6\n",
       "2       13.8\n",
       "3      290.4\n",
       "4      152.1\n",
       "       ...  \n",
       "222    419.9\n",
       "223      1.0\n",
       "224     40.6\n",
       "225     15.3\n",
       "226     31.3\n",
       "Name: Плотность населения (per sq. mi.), Length: 227, dtype: float64"
      ]
     },
     "execution_count": 5,
     "metadata": {},
     "output_type": "execute_result"
    }
   ],
   "source": [
    "# Применим функцию к значениям столбца, заменив значения на новые и выполним преобразование столбцов \n",
    "# к правильным типам с помощью метода .astype()\n",
    "\n",
    "df['Плотность населения (per sq. mi.)'] = df['Плотность населения (per sq. mi.)'].str.replace(',', '.').astype('float64')\n",
    "df['Плотность населения (per sq. mi.)']"
   ]
  },
  {
   "cell_type": "code",
   "execution_count": 6,
   "id": "f0f89ada",
   "metadata": {},
   "outputs": [],
   "source": [
    "# Напишем функцию для преобразования всех строковых данных, оставив 2 знака после запятой\n",
    "# однако если в столбце будут действительно строки, то пропустим такие данные\n",
    "def convert_columns(df):\n",
    "    for col in df.columns:\n",
    "        if df[col].dtype == 'object':\n",
    "            try:\n",
    "                df[col] = df[col].str.replace(',', '.').astype(float).round(2)\n",
    "            except ValueError:\n",
    "                pass\n",
    "    return df\n",
    "\n",
    "df = convert_columns(df)"
   ]
  },
  {
   "cell_type": "code",
   "execution_count": 7,
   "id": "39658dc9",
   "metadata": {},
   "outputs": [
    {
     "data": {
      "text/plain": [
       "Страна                                object\n",
       "Регион                                object\n",
       "Численность                            int64\n",
       "Площадь (sq. mi.)                      int64\n",
       "Плотность населения (per sq. mi.)    float64\n",
       "Длина побережья к общей площади      float64\n",
       "Миграция                             float64\n",
       "Детская смертность                   float64\n",
       "ВВП на душу населения                float64\n",
       "Грамотность(%)                       float64\n",
       "Телефонов (на 1000)                  float64\n",
       "пахотные земли (%)                   float64\n",
       " земель под посевы(%)                float64\n",
       "других земель (%)                    float64\n",
       "Климатический регион                 float64\n",
       "Рождаемость                          float64\n",
       "Смертность                           float64\n",
       "С/Х в ВВП                            float64\n",
       "Промышленность в ВВП                 float64\n",
       "Услуг в ВВП                          float64\n",
       "dtype: object"
      ]
     },
     "execution_count": 7,
     "metadata": {},
     "output_type": "execute_result"
    }
   ],
   "source": [
    "# Таким образом мы привели наш DataFrame в правильное состояние\n",
    "df.dtypes"
   ]
  },
  {
   "cell_type": "code",
   "execution_count": 8,
   "id": "ffb55925",
   "metadata": {},
   "outputs": [
    {
     "data": {
      "text/plain": [
       "array(['Азия         ', 'ВОСТОЧНАЯ ЕВРОПА                     ',\n",
       "       'СЕВЕРНАЯ АФРИКА                    ',\n",
       "       'ОКЕАНИЯ                            ',\n",
       "       'Западная Европа                     ',\n",
       "       'Южная Африка                 ', 'Латинская Америка    ', 'СНГ ',\n",
       "       'Ближний Восток                          ',\n",
       "       'Северная Америка                   ',\n",
       "       'Прибалтика                            '], dtype=object)"
      ]
     },
     "execution_count": 8,
     "metadata": {},
     "output_type": "execute_result"
    }
   ],
   "source": [
    "# Проверим уникальные значения столбца 'Регион'\n",
    "df['Регион'].unique()"
   ]
  },
  {
   "cell_type": "code",
   "execution_count": 9,
   "id": "fab8398d",
   "metadata": {},
   "outputs": [
    {
     "data": {
      "text/plain": [
       "array(['Afghanistan ', 'Albania ', 'Algeria ', 'American Samoa ',\n",
       "       'Andorra ', 'Angola ', 'Anguilla ', 'Antigua & Barbuda ',\n",
       "       'Argentina ', 'Armenia ', 'Aruba ', 'Australia ', 'Austria ',\n",
       "       'Azerbaijan ', 'Bahamas, The ', 'Bahrain ', 'Bangladesh ',\n",
       "       'Barbados ', 'Belarus ', 'Belgium ', 'Belize ', 'Benin ',\n",
       "       'Bermuda ', 'Bhutan ', 'Bolivia ', 'Bosnia & Herzegovina ',\n",
       "       'Botswana ', 'Brazil ', 'British Virgin Is. ', 'Brunei ',\n",
       "       'Bulgaria ', 'Burkina Faso ', 'Burma ', 'Burundi ', 'Cambodia ',\n",
       "       'Cameroon ', 'Canada ', 'Cape Verde ', 'Cayman Islands ',\n",
       "       'Central African Rep. ', 'Chad ', 'Chile ', 'China ', 'Colombia ',\n",
       "       'Comoros ', 'Congo, Dem. Rep. ', 'Congo, Repub. of the ',\n",
       "       'Cook Islands ', 'Costa Rica ', \"Cote d'Ivoire \", 'Croatia ',\n",
       "       'Cuba ', 'Cyprus ', 'Czech Republic ', 'Denmark ', 'Djibouti ',\n",
       "       'Dominica ', 'Dominican Republic ', 'East Timor ', 'Ecuador ',\n",
       "       'Egypt ', 'El Salvador ', 'Equatorial Guinea ', 'Eritrea ',\n",
       "       'Estonia ', 'Ethiopia ', 'Faroe Islands ', 'Fiji ', 'Finland ',\n",
       "       'France ', 'French Guiana ', 'French Polynesia ', 'Gabon ',\n",
       "       'Gambia, The ', 'Gaza Strip ', 'Georgia ', 'Germany ', 'Ghana ',\n",
       "       'Gibraltar ', 'Greece ', 'Greenland ', 'Grenada ', 'Guadeloupe ',\n",
       "       'Guam ', 'Guatemala ', 'Guernsey ', 'Guinea ', 'Guinea-Bissau ',\n",
       "       'Guyana ', 'Haiti ', 'Honduras ', 'Hong Kong ', 'Hungary ',\n",
       "       'Iceland ', 'India ', 'Indonesia ', 'Iran ', 'Iraq ', 'Ireland ',\n",
       "       'Isle of Man ', 'Israel ', 'Italy ', 'Jamaica ', 'Japan ',\n",
       "       'Jersey ', 'Jordan ', 'Kazakhstan ', 'Kenya ', 'Kiribati ',\n",
       "       'Korea, North ', 'Korea, South ', 'Kuwait ', 'Kyrgyzstan ',\n",
       "       'Laos ', 'Latvia ', 'Lebanon ', 'Lesotho ', 'Liberia ', 'Libya ',\n",
       "       'Liechtenstein ', 'Lithuania ', 'Luxembourg ', 'Macau ',\n",
       "       'Macedonia ', 'Madagascar ', 'Malawi ', 'Malaysia ', 'Maldives ',\n",
       "       'Mali ', 'Malta ', 'Marshall Islands ', 'Martinique ',\n",
       "       'Mauritania ', 'Mauritius ', 'Mayotte ', 'Mexico ',\n",
       "       'Micronesia, Fed. St. ', 'Moldova ', 'Monaco ', 'Mongolia ',\n",
       "       'Montserrat ', 'Morocco ', 'Mozambique ', 'Namibia ', 'Nauru ',\n",
       "       'Nepal ', 'Netherlands ', 'Netherlands Antilles ',\n",
       "       'New Caledonia ', 'New Zealand ', 'Nicaragua ', 'Niger ',\n",
       "       'Nigeria ', 'N. Mariana Islands ', 'Norway ', 'Oman ', 'Pakistan ',\n",
       "       'Palau ', 'Panama ', 'Papua New Guinea ', 'Paraguay ', 'Peru ',\n",
       "       'Philippines ', 'Poland ', 'Portugal ', 'Puerto Rico ', 'Qatar ',\n",
       "       'Reunion ', 'Romania ', 'Russia ', 'Rwanda ', 'Saint Helena ',\n",
       "       'Saint Kitts & Nevis ', 'Saint Lucia ', 'St Pierre & Miquelon ',\n",
       "       'Saint Vincent and the Grenadines ', 'Samoa ', 'San Marino ',\n",
       "       'Sao Tome & Principe ', 'Saudi Arabia ', 'Senegal ', 'Serbia ',\n",
       "       'Seychelles ', 'Sierra Leone ', 'Singapore ', 'Slovakia ',\n",
       "       'Slovenia ', 'Solomon Islands ', 'Somalia ', 'South Africa ',\n",
       "       'Spain ', 'Sri Lanka ', 'Sudan ', 'Suriname ', 'Swaziland ',\n",
       "       'Sweden ', 'Switzerland ', 'Syria ', 'Taiwan ', 'Tajikistan ',\n",
       "       'Tanzania ', 'Thailand ', 'Togo ', 'Tonga ', 'Trinidad & Tobago ',\n",
       "       'Tunisia ', 'Turkey ', 'Turkmenistan ', 'Turks & Caicos Is ',\n",
       "       'Tuvalu ', 'Uganda ', 'Ukraine ', 'United Arab Emirates ',\n",
       "       'United Kingdom ', 'United States ', 'Uruguay ', 'Uzbekistan ',\n",
       "       'Vanuatu ', 'Venezuela ', 'Vietnam ', 'Virgin Islands ',\n",
       "       'Wallis and Futuna ', 'West Bank ', 'Western Sahara ', 'Yemen ',\n",
       "       'Zambia ', 'Zimbabwe '], dtype=object)"
      ]
     },
     "execution_count": 9,
     "metadata": {},
     "output_type": "execute_result"
    }
   ],
   "source": [
    "df['Страна'].unique()"
   ]
  },
  {
   "cell_type": "code",
   "execution_count": 10,
   "id": "6d7ff428",
   "metadata": {},
   "outputs": [],
   "source": [
    "# Здесь мы видим много лишних пробелов \n",
    "# Чтобы удалить лишние пробелы из столбца в DataFrame, вы можете использовать метод str.strip().\n",
    "# Этот метод удаляет начальные и конечные пробелы из строк. \n",
    "df['Регион'] = df['Регион'].str.strip()\n",
    "# Сделаем эту операцию и со столбцом 'Страна'\n",
    "df['Страна'] = df['Страна'].str.strip()"
   ]
  },
  {
   "cell_type": "code",
   "execution_count": 11,
   "id": "fd3149b9",
   "metadata": {},
   "outputs": [
    {
     "data": {
      "text/plain": [
       "array(['Азия', 'ВОСТОЧНАЯ ЕВРОПА', 'СЕВЕРНАЯ АФРИКА', 'ОКЕАНИЯ',\n",
       "       'Западная Европа', 'Южная Африка', 'Латинская Америка', 'СНГ',\n",
       "       'Ближний Восток', 'Северная Америка', 'Прибалтика'], dtype=object)"
      ]
     },
     "execution_count": 11,
     "metadata": {},
     "output_type": "execute_result"
    }
   ],
   "source": [
    "# Теперь все в порядке\n",
    "df['Регион'].unique()"
   ]
  },
  {
   "cell_type": "code",
   "execution_count": 12,
   "id": "22044d7e",
   "metadata": {},
   "outputs": [
    {
     "data": {
      "text/plain": [
       "array(['Afghanistan', 'Albania', 'Algeria', 'American Samoa', 'Andorra',\n",
       "       'Angola', 'Anguilla', 'Antigua & Barbuda', 'Argentina', 'Armenia',\n",
       "       'Aruba', 'Australia', 'Austria', 'Azerbaijan', 'Bahamas, The',\n",
       "       'Bahrain', 'Bangladesh', 'Barbados', 'Belarus', 'Belgium',\n",
       "       'Belize', 'Benin', 'Bermuda', 'Bhutan', 'Bolivia',\n",
       "       'Bosnia & Herzegovina', 'Botswana', 'Brazil', 'British Virgin Is.',\n",
       "       'Brunei', 'Bulgaria', 'Burkina Faso', 'Burma', 'Burundi',\n",
       "       'Cambodia', 'Cameroon', 'Canada', 'Cape Verde', 'Cayman Islands',\n",
       "       'Central African Rep.', 'Chad', 'Chile', 'China', 'Colombia',\n",
       "       'Comoros', 'Congo, Dem. Rep.', 'Congo, Repub. of the',\n",
       "       'Cook Islands', 'Costa Rica', \"Cote d'Ivoire\", 'Croatia', 'Cuba',\n",
       "       'Cyprus', 'Czech Republic', 'Denmark', 'Djibouti', 'Dominica',\n",
       "       'Dominican Republic', 'East Timor', 'Ecuador', 'Egypt',\n",
       "       'El Salvador', 'Equatorial Guinea', 'Eritrea', 'Estonia',\n",
       "       'Ethiopia', 'Faroe Islands', 'Fiji', 'Finland', 'France',\n",
       "       'French Guiana', 'French Polynesia', 'Gabon', 'Gambia, The',\n",
       "       'Gaza Strip', 'Georgia', 'Germany', 'Ghana', 'Gibraltar', 'Greece',\n",
       "       'Greenland', 'Grenada', 'Guadeloupe', 'Guam', 'Guatemala',\n",
       "       'Guernsey', 'Guinea', 'Guinea-Bissau', 'Guyana', 'Haiti',\n",
       "       'Honduras', 'Hong Kong', 'Hungary', 'Iceland', 'India',\n",
       "       'Indonesia', 'Iran', 'Iraq', 'Ireland', 'Isle of Man', 'Israel',\n",
       "       'Italy', 'Jamaica', 'Japan', 'Jersey', 'Jordan', 'Kazakhstan',\n",
       "       'Kenya', 'Kiribati', 'Korea, North', 'Korea, South', 'Kuwait',\n",
       "       'Kyrgyzstan', 'Laos', 'Latvia', 'Lebanon', 'Lesotho', 'Liberia',\n",
       "       'Libya', 'Liechtenstein', 'Lithuania', 'Luxembourg', 'Macau',\n",
       "       'Macedonia', 'Madagascar', 'Malawi', 'Malaysia', 'Maldives',\n",
       "       'Mali', 'Malta', 'Marshall Islands', 'Martinique', 'Mauritania',\n",
       "       'Mauritius', 'Mayotte', 'Mexico', 'Micronesia, Fed. St.',\n",
       "       'Moldova', 'Monaco', 'Mongolia', 'Montserrat', 'Morocco',\n",
       "       'Mozambique', 'Namibia', 'Nauru', 'Nepal', 'Netherlands',\n",
       "       'Netherlands Antilles', 'New Caledonia', 'New Zealand',\n",
       "       'Nicaragua', 'Niger', 'Nigeria', 'N. Mariana Islands', 'Norway',\n",
       "       'Oman', 'Pakistan', 'Palau', 'Panama', 'Papua New Guinea',\n",
       "       'Paraguay', 'Peru', 'Philippines', 'Poland', 'Portugal',\n",
       "       'Puerto Rico', 'Qatar', 'Reunion', 'Romania', 'Russia', 'Rwanda',\n",
       "       'Saint Helena', 'Saint Kitts & Nevis', 'Saint Lucia',\n",
       "       'St Pierre & Miquelon', 'Saint Vincent and the Grenadines',\n",
       "       'Samoa', 'San Marino', 'Sao Tome & Principe', 'Saudi Arabia',\n",
       "       'Senegal', 'Serbia', 'Seychelles', 'Sierra Leone', 'Singapore',\n",
       "       'Slovakia', 'Slovenia', 'Solomon Islands', 'Somalia',\n",
       "       'South Africa', 'Spain', 'Sri Lanka', 'Sudan', 'Suriname',\n",
       "       'Swaziland', 'Sweden', 'Switzerland', 'Syria', 'Taiwan',\n",
       "       'Tajikistan', 'Tanzania', 'Thailand', 'Togo', 'Tonga',\n",
       "       'Trinidad & Tobago', 'Tunisia', 'Turkey', 'Turkmenistan',\n",
       "       'Turks & Caicos Is', 'Tuvalu', 'Uganda', 'Ukraine',\n",
       "       'United Arab Emirates', 'United Kingdom', 'United States',\n",
       "       'Uruguay', 'Uzbekistan', 'Vanuatu', 'Venezuela', 'Vietnam',\n",
       "       'Virgin Islands', 'Wallis and Futuna', 'West Bank',\n",
       "       'Western Sahara', 'Yemen', 'Zambia', 'Zimbabwe'], dtype=object)"
      ]
     },
     "execution_count": 12,
     "metadata": {},
     "output_type": "execute_result"
    }
   ],
   "source": [
    "df['Страна'].unique()"
   ]
  },
  {
   "cell_type": "markdown",
   "id": "4c914a79",
   "metadata": {},
   "source": [
    "### Выбор определенного столбца:"
   ]
  },
  {
   "cell_type": "code",
   "execution_count": 13,
   "id": "dbeb43aa",
   "metadata": {},
   "outputs": [
    {
     "name": "stdout",
     "output_type": "stream",
     "text": [
      "             Страна  Численность\n",
      "0       Afghanistan     31056997\n",
      "1           Albania      3581655\n",
      "2           Algeria     32930091\n",
      "3    American Samoa        57794\n",
      "4           Andorra        71201\n",
      "..              ...          ...\n",
      "222       West Bank      2460492\n",
      "223  Western Sahara       273008\n",
      "224           Yemen     21456188\n",
      "225          Zambia     11502010\n",
      "226        Zimbabwe     12236805\n",
      "\n",
      "[227 rows x 2 columns]\n"
     ]
    }
   ],
   "source": [
    "# Выбор определенного столбца\n",
    "population = df[['Страна','Численность']]\n",
    "print(population)"
   ]
  },
  {
   "cell_type": "markdown",
   "id": "45901202",
   "metadata": {},
   "source": [
    "### Замена значений в данных:"
   ]
  },
  {
   "cell_type": "code",
   "execution_count": 14,
   "id": "28d5a899",
   "metadata": {},
   "outputs": [
    {
     "data": {
      "text/html": [
       "<div>\n",
       "<style scoped>\n",
       "    .dataframe tbody tr th:only-of-type {\n",
       "        vertical-align: middle;\n",
       "    }\n",
       "\n",
       "    .dataframe tbody tr th {\n",
       "        vertical-align: top;\n",
       "    }\n",
       "\n",
       "    .dataframe thead th {\n",
       "        text-align: right;\n",
       "    }\n",
       "</style>\n",
       "<table border=\"1\" class=\"dataframe\">\n",
       "  <thead>\n",
       "    <tr style=\"text-align: right;\">\n",
       "      <th></th>\n",
       "      <th>Страна</th>\n",
       "      <th>Регион</th>\n",
       "    </tr>\n",
       "  </thead>\n",
       "  <tbody>\n",
       "    <tr>\n",
       "      <th>9</th>\n",
       "      <td>Armenia</td>\n",
       "      <td>ex-USSR</td>\n",
       "    </tr>\n",
       "    <tr>\n",
       "      <th>13</th>\n",
       "      <td>Azerbaijan</td>\n",
       "      <td>ex-USSR</td>\n",
       "    </tr>\n",
       "    <tr>\n",
       "      <th>18</th>\n",
       "      <td>Belarus</td>\n",
       "      <td>ex-USSR</td>\n",
       "    </tr>\n",
       "    <tr>\n",
       "      <th>75</th>\n",
       "      <td>Georgia</td>\n",
       "      <td>ex-USSR</td>\n",
       "    </tr>\n",
       "    <tr>\n",
       "      <th>106</th>\n",
       "      <td>Kazakhstan</td>\n",
       "      <td>ex-USSR</td>\n",
       "    </tr>\n",
       "    <tr>\n",
       "      <th>112</th>\n",
       "      <td>Kyrgyzstan</td>\n",
       "      <td>ex-USSR</td>\n",
       "    </tr>\n",
       "    <tr>\n",
       "      <th>137</th>\n",
       "      <td>Moldova</td>\n",
       "      <td>ex-USSR</td>\n",
       "    </tr>\n",
       "    <tr>\n",
       "      <th>169</th>\n",
       "      <td>Russia</td>\n",
       "      <td>ex-USSR</td>\n",
       "    </tr>\n",
       "    <tr>\n",
       "      <th>199</th>\n",
       "      <td>Tajikistan</td>\n",
       "      <td>ex-USSR</td>\n",
       "    </tr>\n",
       "    <tr>\n",
       "      <th>207</th>\n",
       "      <td>Turkmenistan</td>\n",
       "      <td>ex-USSR</td>\n",
       "    </tr>\n",
       "    <tr>\n",
       "      <th>211</th>\n",
       "      <td>Ukraine</td>\n",
       "      <td>ex-USSR</td>\n",
       "    </tr>\n",
       "    <tr>\n",
       "      <th>216</th>\n",
       "      <td>Uzbekistan</td>\n",
       "      <td>ex-USSR</td>\n",
       "    </tr>\n",
       "  </tbody>\n",
       "</table>\n",
       "</div>"
      ],
      "text/plain": [
       "           Страна   Регион\n",
       "9         Armenia  ex-USSR\n",
       "13     Azerbaijan  ex-USSR\n",
       "18        Belarus  ex-USSR\n",
       "75        Georgia  ex-USSR\n",
       "106    Kazakhstan  ex-USSR\n",
       "112    Kyrgyzstan  ex-USSR\n",
       "137       Moldova  ex-USSR\n",
       "169        Russia  ex-USSR\n",
       "199    Tajikistan  ex-USSR\n",
       "207  Turkmenistan  ex-USSR\n",
       "211       Ukraine  ex-USSR\n",
       "216    Uzbekistan  ex-USSR"
      ]
     },
     "execution_count": 14,
     "metadata": {},
     "output_type": "execute_result"
    }
   ],
   "source": [
    "# Замена всех значений 'СНГ' в столбце 'Регион' на 'ex-USSR'\n",
    "df['Регион'] = df['Регион'].replace('СНГ', 'ex-USSR')\n",
    "df[df['Регион'] == 'ex-USSR'][['Страна', 'Регион']]\n"
   ]
  },
  {
   "cell_type": "markdown",
   "id": "dceaa766",
   "metadata": {},
   "source": [
    "### Удаление столбцов:"
   ]
  },
  {
   "cell_type": "code",
   "execution_count": 15,
   "id": "2f23cb0c",
   "metadata": {},
   "outputs": [],
   "source": [
    "# Удаление столбца 'Климатический регион', т.к непонятно, что он означает))\n",
    "df = df.drop(columns=['Климатический регион'])\n"
   ]
  },
  {
   "cell_type": "markdown",
   "id": "3f7a0842",
   "metadata": {},
   "source": [
    "### Фильтрация данных:"
   ]
  },
  {
   "cell_type": "code",
   "execution_count": 16,
   "id": "fe500973",
   "metadata": {},
   "outputs": [
    {
     "name": "stdout",
     "output_type": "stream",
     "text": [
      "   Страна  Численность\n",
      "42  China   1313973713\n",
      "94  India   1095351995\n"
     ]
    }
   ],
   "source": [
    "# Получение стран с населением больше 1 миллиарда\n",
    "large_countries = df[df['Численность'] > 1e9][['Страна', 'Численность']]\n",
    "print(large_countries)"
   ]
  },
  {
   "cell_type": "markdown",
   "id": "b36bca98",
   "metadata": {},
   "source": [
    "### Сортировка данных:"
   ]
  },
  {
   "cell_type": "code",
   "execution_count": 17,
   "id": "0563e0e2",
   "metadata": {},
   "outputs": [
    {
     "name": "stdout",
     "output_type": "stream",
     "text": [
      "                   Страна  Численность\n",
      "42                  China   1313973713\n",
      "94                  India   1095351995\n",
      "214         United States    298444215\n",
      "95              Indonesia    245452739\n",
      "27                 Brazil    188078227\n",
      "..                    ...          ...\n",
      "144                 Nauru        13287\n",
      "209                Tuvalu        11810\n",
      "140            Montserrat         9439\n",
      "171          Saint Helena         7502\n",
      "174  St Pierre & Miquelon         7026\n",
      "\n",
      "[227 rows x 2 columns]\n"
     ]
    }
   ],
   "source": [
    "# Сортировка стран по населению в порядке убывания, выводим только название и значение\n",
    "sorted_countries = df.sort_values('Численность', ascending=False)[['Страна','Численность']]\n",
    "print(sorted_countries)"
   ]
  },
  {
   "cell_type": "markdown",
   "id": "c501d369",
   "metadata": {},
   "source": [
    "### Создание новых столбцов на основе существующих:"
   ]
  },
  {
   "cell_type": "code",
   "execution_count": 18,
   "id": "0dcbe4aa",
   "metadata": {},
   "outputs": [
    {
     "data": {
      "text/html": [
       "<div>\n",
       "<style scoped>\n",
       "    .dataframe tbody tr th:only-of-type {\n",
       "        vertical-align: middle;\n",
       "    }\n",
       "\n",
       "    .dataframe tbody tr th {\n",
       "        vertical-align: top;\n",
       "    }\n",
       "\n",
       "    .dataframe thead th {\n",
       "        text-align: right;\n",
       "    }\n",
       "</style>\n",
       "<table border=\"1\" class=\"dataframe\">\n",
       "  <thead>\n",
       "    <tr style=\"text-align: right;\">\n",
       "      <th></th>\n",
       "      <th>Площадь (sq. mi.)</th>\n",
       "      <th>Площадь(кв.км)</th>\n",
       "      <th>Плотность населения(на кв.км)</th>\n",
       "    </tr>\n",
       "  </thead>\n",
       "  <tbody>\n",
       "    <tr>\n",
       "      <th>0</th>\n",
       "      <td>647500</td>\n",
       "      <td>1677025.00</td>\n",
       "      <td>124.320</td>\n",
       "    </tr>\n",
       "    <tr>\n",
       "      <th>1</th>\n",
       "      <td>28748</td>\n",
       "      <td>74457.32</td>\n",
       "      <td>322.714</td>\n",
       "    </tr>\n",
       "    <tr>\n",
       "      <th>2</th>\n",
       "      <td>2381740</td>\n",
       "      <td>6168706.60</td>\n",
       "      <td>35.742</td>\n",
       "    </tr>\n",
       "    <tr>\n",
       "      <th>3</th>\n",
       "      <td>199</td>\n",
       "      <td>515.41</td>\n",
       "      <td>752.136</td>\n",
       "    </tr>\n",
       "    <tr>\n",
       "      <th>4</th>\n",
       "      <td>468</td>\n",
       "      <td>1212.12</td>\n",
       "      <td>393.939</td>\n",
       "    </tr>\n",
       "    <tr>\n",
       "      <th>...</th>\n",
       "      <td>...</td>\n",
       "      <td>...</td>\n",
       "      <td>...</td>\n",
       "    </tr>\n",
       "    <tr>\n",
       "      <th>222</th>\n",
       "      <td>5860</td>\n",
       "      <td>15177.40</td>\n",
       "      <td>1087.541</td>\n",
       "    </tr>\n",
       "    <tr>\n",
       "      <th>223</th>\n",
       "      <td>266000</td>\n",
       "      <td>688940.00</td>\n",
       "      <td>2.590</td>\n",
       "    </tr>\n",
       "    <tr>\n",
       "      <th>224</th>\n",
       "      <td>527970</td>\n",
       "      <td>1367442.30</td>\n",
       "      <td>105.154</td>\n",
       "    </tr>\n",
       "    <tr>\n",
       "      <th>225</th>\n",
       "      <td>752614</td>\n",
       "      <td>1949270.26</td>\n",
       "      <td>39.627</td>\n",
       "    </tr>\n",
       "    <tr>\n",
       "      <th>226</th>\n",
       "      <td>390580</td>\n",
       "      <td>1011602.20</td>\n",
       "      <td>81.067</td>\n",
       "    </tr>\n",
       "  </tbody>\n",
       "</table>\n",
       "<p>227 rows × 3 columns</p>\n",
       "</div>"
      ],
      "text/plain": [
       "     Площадь (sq. mi.)  Площадь(кв.км)  Плотность населения(на кв.км)\n",
       "0               647500      1677025.00                        124.320\n",
       "1                28748        74457.32                        322.714\n",
       "2              2381740      6168706.60                         35.742\n",
       "3                  199          515.41                        752.136\n",
       "4                  468         1212.12                        393.939\n",
       "..                 ...             ...                            ...\n",
       "222               5860        15177.40                       1087.541\n",
       "223             266000       688940.00                          2.590\n",
       "224             527970      1367442.30                        105.154\n",
       "225             752614      1949270.26                         39.627\n",
       "226             390580      1011602.20                         81.067\n",
       "\n",
       "[227 rows x 3 columns]"
      ]
     },
     "execution_count": 18,
     "metadata": {},
     "output_type": "execute_result"
    }
   ],
   "source": [
    "# Создание нового столбца 'Численность в млн' на основе столбца 'Численность'\n",
    "df['Численность в млн'] = df['Численность'] / 1e9\n",
    "\n",
    "# Создадим новые столбцы, с указанием численности в квадратных километрах и плотности населения - человек на кв.км\n",
    "df['Площадь(кв.км)'] = df['Площадь (sq. mi.)'] * 2.59\n",
    "df['Плотность населения(на кв.км)'] = df['Плотность населения (per sq. mi.)'] * 2.59\n",
    "df[['Площадь (sq. mi.)','Площадь(кв.км)','Плотность населения(на кв.км)']]\n"
   ]
  },
  {
   "cell_type": "code",
   "execution_count": 19,
   "id": "0d67ceac",
   "metadata": {},
   "outputs": [],
   "source": [
    "# Сохраним наш DataFrame для дольнейшего использования\n",
    "df.to_csv('countries_dataset/train_dataset.csv')\n",
    "df.to_excel('countries_dataset/countries-of-the-world.xlsx')"
   ]
  },
  {
   "cell_type": "code",
   "execution_count": null,
   "id": "a00668f1",
   "metadata": {},
   "outputs": [],
   "source": []
  }
 ],
 "metadata": {
  "kernelspec": {
   "display_name": "Python 3 (ipykernel)",
   "language": "python",
   "name": "python3"
  },
  "language_info": {
   "codemirror_mode": {
    "name": "ipython",
    "version": 3
   },
   "file_extension": ".py",
   "mimetype": "text/x-python",
   "name": "python",
   "nbconvert_exporter": "python",
   "pygments_lexer": "ipython3",
   "version": "3.10.6"
  }
 },
 "nbformat": 4,
 "nbformat_minor": 5
}
